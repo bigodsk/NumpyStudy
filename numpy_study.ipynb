{
 "cells": [
  {
   "cell_type": "code",
   "execution_count": 34,
   "id": "99072d88",
   "metadata": {},
   "outputs": [],
   "source": [
    "import numpy as np\n",
    "import time"
   ]
  },
  {
   "cell_type": "markdown",
   "id": "3295de45",
   "metadata": {},
   "source": [
    "# Performance: Numpy x Python"
   ]
  },
  {
   "cell_type": "code",
   "execution_count": 35,
   "id": "9f897412",
   "metadata": {},
   "outputs": [],
   "source": [
    "size = 1000000"
   ]
  },
  {
   "cell_type": "code",
   "execution_count": 36,
   "id": "f031e33e",
   "metadata": {},
   "outputs": [
    {
     "name": "stdout",
     "output_type": "stream",
     "text": [
      "[0, 1, 2, 3, 4, 5, 6, 7, 8, 9]\n",
      "[999990, 999991, 999992, 999993, 999994, 999995, 999996, 999997, 999998, 999999]\n"
     ]
    }
   ],
   "source": [
    "# python\n",
    "list_py = []\n",
    "list_py = [x for x in range(size)]\n",
    "print(list_py[:10])\n",
    "print(list_py[-10:])"
   ]
  },
  {
   "cell_type": "code",
   "execution_count": 41,
   "id": "47a6b044",
   "metadata": {},
   "outputs": [
    {
     "name": "stdout",
     "output_type": "stream",
     "text": [
      "0.03125\n"
     ]
    }
   ],
   "source": [
    "start_time_py = time.process_time()\n",
    "list_py_mult = [x*2 for x in list_py]\n",
    "duration_py = time.process_time() - start_time_py\n",
    "print(duration_py)"
   ]
  },
  {
   "cell_type": "code",
   "execution_count": 38,
   "id": "6caa689d",
   "metadata": {},
   "outputs": [
    {
     "name": "stdout",
     "output_type": "stream",
     "text": [
      "[0, 2, 4, 6, 8, 10, 12, 14, 16, 18]\n",
      "[1999980, 1999982, 1999984, 1999986, 1999988, 1999990, 1999992, 1999994, 1999996, 1999998]\n"
     ]
    }
   ],
   "source": [
    "print(list_py_mult[:10])\n",
    "print(list_py_mult[-10:])"
   ]
  },
  {
   "cell_type": "code",
   "execution_count": 39,
   "id": "21dfa669",
   "metadata": {},
   "outputs": [
    {
     "name": "stdout",
     "output_type": "stream",
     "text": [
      "[0 1 2 3 4 5 6 7 8 9]\n",
      "[999990 999991 999992 999993 999994 999995 999996 999997 999998 999999]\n"
     ]
    }
   ],
   "source": [
    "# numpy\n",
    "arr_np = np.array(arr_py)\n",
    "print(arr_np[:10])\n",
    "print(arr_np[-10:])"
   ]
  },
  {
   "cell_type": "code",
   "execution_count": 42,
   "id": "837f4167",
   "metadata": {},
   "outputs": [
    {
     "name": "stdout",
     "output_type": "stream",
     "text": [
      "0.015625\n"
     ]
    }
   ],
   "source": [
    "start_time_np = time.process_time()\n",
    "arr_np_mult = arr_np*2\n",
    "duration_np = time.process_time() - start_time_np\n",
    "print(duration_np)"
   ]
  },
  {
   "cell_type": "code",
   "execution_count": 44,
   "id": "0b5a83d8",
   "metadata": {},
   "outputs": [
    {
     "name": "stdout",
     "output_type": "stream",
     "text": [
      "numpy array is 50.0% faster than python list\n"
     ]
    }
   ],
   "source": [
    "# comparison\n",
    "print(f'numpy array is {duration_np/duration_py*100}% faster than python list')"
   ]
  },
  {
   "cell_type": "markdown",
   "id": "35a5eab6",
   "metadata": {},
   "source": [
    "# Working with Numpy Arrays"
   ]
  },
  {
   "cell_type": "markdown",
   "id": "6b557e65",
   "metadata": {},
   "source": [
    "## Creating Arrays and Matrices"
   ]
  },
  {
   "cell_type": "code",
   "execution_count": 137,
   "id": "63dcd24b",
   "metadata": {},
   "outputs": [
    {
     "data": {
      "text/plain": [
       "array([1, 2, 3])"
      ]
     },
     "execution_count": 137,
     "metadata": {},
     "output_type": "execute_result"
    }
   ],
   "source": [
    "# creating arrays\n",
    "l = [1,2,3]\n",
    "np_array = np.array(l)\n",
    "np_array"
   ]
  },
  {
   "cell_type": "code",
   "execution_count": 138,
   "id": "18c1bff5",
   "metadata": {},
   "outputs": [
    {
     "name": "stdout",
     "output_type": "stream",
     "text": [
      "<class 'list'>\n",
      "<class 'numpy.ndarray'>\n"
     ]
    }
   ],
   "source": [
    "print(type(l))\n",
    "print(type(np_array))"
   ]
  },
  {
   "cell_type": "code",
   "execution_count": 139,
   "id": "b7770e15",
   "metadata": {},
   "outputs": [
    {
     "name": "stdout",
     "output_type": "stream",
     "text": [
      "[[1, 2, 3], [4, 5, 6], [7, 8, 9]] <class 'list'>\n"
     ]
    }
   ],
   "source": [
    "# creating matrix with python\n",
    "py_matrix = [[1,2,3],[4,5,6],[7,8,9]]\n",
    "print(py_matrix, type(py_matrix))"
   ]
  },
  {
   "cell_type": "code",
   "execution_count": 140,
   "id": "aa584df9",
   "metadata": {},
   "outputs": [
    {
     "name": "stdout",
     "output_type": "stream",
     "text": [
      "[[1 2 3]\n",
      " [4 5 6]\n",
      " [7 8 9]] <class 'numpy.matrix'>\n",
      "------------------------------\n",
      "[[1 2 3]\n",
      " [4 5 6]\n",
      " [7 8 9]] <class 'numpy.ndarray'>\n"
     ]
    }
   ],
   "source": [
    "# creating matrix with numpy\n",
    "np_matrix = np.matrix(py_matrix)\n",
    "print(np_matrix, type(np_matrix))\n",
    "print('------------------------------')\n",
    "# another option\n",
    "np_matrix_ = np.array(py_matrix)\n",
    "print(np_matrix_, type(np_matrix_))"
   ]
  },
  {
   "cell_type": "code",
   "execution_count": 54,
   "id": "a2bf2120",
   "metadata": {},
   "outputs": [
    {
     "data": {
      "text/plain": [
       "array([1, 2, 3])"
      ]
     },
     "execution_count": 54,
     "metadata": {},
     "output_type": "execute_result"
    }
   ],
   "source": [
    "# 1D array\n",
    "np.array([1,2,3])"
   ]
  },
  {
   "cell_type": "code",
   "execution_count": 56,
   "id": "a378aaa2",
   "metadata": {},
   "outputs": [
    {
     "data": {
      "text/plain": [
       "array([[1, 2, 3],\n",
       "       [4, 5, 6]])"
      ]
     },
     "execution_count": 56,
     "metadata": {},
     "output_type": "execute_result"
    }
   ],
   "source": [
    "# 2D array\n",
    "np.array([[1,2,3],[4,5,6]])"
   ]
  },
  {
   "cell_type": "code",
   "execution_count": 60,
   "id": "f94b52b2",
   "metadata": {},
   "outputs": [
    {
     "data": {
      "text/plain": [
       "array([[[ 1,  2,  3],\n",
       "        [ 4,  5,  6],\n",
       "        [ 7,  8,  9]],\n",
       "\n",
       "       [[11, 12, 13],\n",
       "        [14, 15, 16],\n",
       "        [17, 18, 19]]])"
      ]
     },
     "execution_count": 60,
     "metadata": {},
     "output_type": "execute_result"
    }
   ],
   "source": [
    "# 3D array\n",
    "np.array([[[1,2,3],[4,5,6],[7,8,9]],\n",
    "         [[11,12,13],[14,15,16],[17,18,19]]])"
   ]
  },
  {
   "cell_type": "code",
   "execution_count": 62,
   "id": "780f0ddf",
   "metadata": {},
   "outputs": [
    {
     "name": "stdout",
     "output_type": "stream",
     "text": [
      "[0, 1, 2, 3, 4, 5, 6, 7, 8, 9]\n",
      "<class 'list'>\n"
     ]
    }
   ],
   "source": [
    "# some more options with python lists\n",
    "list_range = list(range(10))\n",
    "print(list_range)\n",
    "print(type(list_range))"
   ]
  },
  {
   "cell_type": "code",
   "execution_count": 63,
   "id": "78e3a8af",
   "metadata": {},
   "outputs": [
    {
     "name": "stdout",
     "output_type": "stream",
     "text": [
      "[0 1 2 3 4 5 6 7 8 9]\n",
      "<class 'numpy.ndarray'>\n"
     ]
    }
   ],
   "source": [
    "# some more options with python lists\n",
    "array_range = np.array(range(10))\n",
    "print(array_range)\n",
    "print(type(array_range))"
   ]
  },
  {
   "cell_type": "code",
   "execution_count": 64,
   "id": "b081e5cf",
   "metadata": {},
   "outputs": [
    {
     "name": "stdout",
     "output_type": "stream",
     "text": [
      "[  1   4   7  10  13  16  19  22  25  28  31  34  37  40  43  46  49  52\n",
      "  55  58  61  64  67  70  73  76  79  82  85  88  91  94  97 100] <class 'numpy.ndarray'>\n"
     ]
    }
   ],
   "source": [
    "array_steped = np.arange(1, 101, 3)\n",
    "print(array_steped, type(array_steped))"
   ]
  },
  {
   "cell_type": "code",
   "execution_count": 66,
   "id": "36c0bda5",
   "metadata": {},
   "outputs": [
    {
     "name": "stdout",
     "output_type": "stream",
     "text": [
      "[0. 0. 0. 0. 0.] <class 'numpy.ndarray'>\n"
     ]
    }
   ],
   "source": [
    "# numpy array with zeros\n",
    "zeros = np.zeros(5)\n",
    "print(zeros, type(zeros))"
   ]
  },
  {
   "cell_type": "code",
   "execution_count": 69,
   "id": "af1edded",
   "metadata": {},
   "outputs": [
    {
     "name": "stdout",
     "output_type": "stream",
     "text": [
      "[[0. 0. 0.]\n",
      " [0. 0. 0.]\n",
      " [0. 0. 0.]] <class 'numpy.ndarray'>\n"
     ]
    }
   ],
   "source": [
    "# numpy matrix with zeros\n",
    "zeros_matrix = np.zeros((3, 3))\n",
    "print(zeros_matrix, type(zeros_matrix))"
   ]
  },
  {
   "cell_type": "code",
   "execution_count": 70,
   "id": "978828a0",
   "metadata": {},
   "outputs": [
    {
     "name": "stdout",
     "output_type": "stream",
     "text": [
      "[1. 1. 1. 1. 1.] <class 'numpy.ndarray'>\n"
     ]
    }
   ],
   "source": [
    "# numpy array with ones\n",
    "ones = np.ones(5)\n",
    "print(ones, type(ones))"
   ]
  },
  {
   "cell_type": "code",
   "execution_count": 71,
   "id": "0cc73ef0",
   "metadata": {},
   "outputs": [
    {
     "name": "stdout",
     "output_type": "stream",
     "text": [
      "[[1. 1. 1.]\n",
      " [1. 1. 1.]\n",
      " [1. 1. 1.]] <class 'numpy.ndarray'>\n"
     ]
    }
   ],
   "source": [
    "# numpy matrix with ones\n",
    "ones_matrix = np.ones((3, 3))\n",
    "print(ones_matrix, type(ones_matrix))"
   ]
  },
  {
   "cell_type": "code",
   "execution_count": 74,
   "id": "19e70b5c",
   "metadata": {},
   "outputs": [
    {
     "data": {
      "text/plain": [
       "array([ 1.  ,  3.25,  5.5 ,  7.75, 10.  ])"
      ]
     },
     "execution_count": 74,
     "metadata": {},
     "output_type": "execute_result"
    }
   ],
   "source": [
    "# linspace(start, end, n) creates an array with lenght=n \n",
    "np.linspace(1, 10, 5)"
   ]
  },
  {
   "cell_type": "code",
   "execution_count": 75,
   "id": "cf640e58",
   "metadata": {},
   "outputs": [
    {
     "data": {
      "text/plain": [
       "array([[1., 0., 0.],\n",
       "       [0., 1., 0.],\n",
       "       [0., 0., 1.]])"
      ]
     },
     "execution_count": 75,
     "metadata": {},
     "output_type": "execute_result"
    }
   ],
   "source": [
    "# creating an identity matrix (https://en.wikipedia.org/wiki/Identity_matrix)\n",
    "np.eye(3)"
   ]
  },
  {
   "cell_type": "code",
   "execution_count": 81,
   "id": "56676181",
   "metadata": {},
   "outputs": [
    {
     "data": {
      "text/plain": [
       "array([[0.03229509, 0.72308595, 0.45817809, 0.54484875],\n",
       "       [0.40926921, 0.12960762, 0.00879705, 0.81876546],\n",
       "       [0.54809669, 0.11766774, 0.18054078, 0.45588789]])"
      ]
     },
     "execution_count": 81,
     "metadata": {},
     "output_type": "execute_result"
    }
   ],
   "source": [
    "# creating a random matrix\n",
    "np.random.rand(3,4)"
   ]
  },
  {
   "cell_type": "code",
   "execution_count": 83,
   "id": "2b290e90",
   "metadata": {},
   "outputs": [
    {
     "data": {
      "text/plain": [
       "array([[0.07953198, 0.49963792, 0.15708943, 0.94503473],\n",
       "       [0.52236453, 0.10293601, 0.86824684, 0.46088973],\n",
       "       [0.4847258 , 0.04422707, 0.07492552, 0.82027852]])"
      ]
     },
     "execution_count": 83,
     "metadata": {},
     "output_type": "execute_result"
    }
   ],
   "source": [
    "# creating a random matrix (in this case we need to input a tuple)\n",
    "np.random.random((3,4))"
   ]
  },
  {
   "cell_type": "code",
   "execution_count": 87,
   "id": "39cf3156",
   "metadata": {},
   "outputs": [
    {
     "name": "stdout",
     "output_type": "stream",
     "text": [
      "[-0.34419239  0.32939488 -1.04923073  0.49191353 -1.47090853  0.07362426\n",
      " -0.46313192  0.91134424  0.06527936 -0.2672725 ]\n",
      "----------------------------\n",
      "[[-1.10213418 -0.21827088  0.04096494]\n",
      " [ 0.37222222  0.52981177  1.6049021 ]\n",
      " [ 0.00509762 -1.93387029  2.09236306]]\n"
     ]
    }
   ],
   "source": [
    "# creating a random matrix using Gaussian distribution (https://en.wikipedia.org/wiki/Normal_distribution)\n",
    "print(np.random.randn(10))\n",
    "print('----------------------------')\n",
    "print(np.random.randn(3,3))"
   ]
  },
  {
   "cell_type": "code",
   "execution_count": 89,
   "id": "cbc255d4",
   "metadata": {},
   "outputs": [
    {
     "data": {
      "text/plain": [
       "array([[10, 24,  3],\n",
       "       [24,  8,  0],\n",
       "       [21, 19, 10]])"
      ]
     },
     "execution_count": 89,
     "metadata": {},
     "output_type": "execute_result"
    }
   ],
   "source": [
    "# creating a seed to random algorithm, this mean the following 'random values' will be the same ALWAYS\n",
    "np.random.seed(3)\n",
    "\n",
    "np.random.randint(25, size=(3,3))"
   ]
  },
  {
   "cell_type": "markdown",
   "id": "dcd893de",
   "metadata": {},
   "source": [
    "## Reshape"
   ]
  },
  {
   "cell_type": "code",
   "execution_count": 90,
   "id": "2ff12bcf",
   "metadata": {},
   "outputs": [
    {
     "data": {
      "text/plain": [
       "array([ 0,  1,  2,  3,  4,  5,  6,  7,  8,  9, 10, 11, 12, 13, 14])"
      ]
     },
     "execution_count": 90,
     "metadata": {},
     "output_type": "execute_result"
    }
   ],
   "source": [
    "# reshaping arrays\n",
    "normal = np.arange(15)\n",
    "normal"
   ]
  },
  {
   "cell_type": "code",
   "execution_count": 92,
   "id": "acb64d10",
   "metadata": {},
   "outputs": [
    {
     "data": {
      "text/plain": [
       "array([[ 0,  1,  2,  3,  4],\n",
       "       [ 5,  6,  7,  8,  9],\n",
       "       [10, 11, 12, 13, 14]])"
      ]
     },
     "execution_count": 92,
     "metadata": {},
     "output_type": "execute_result"
    }
   ],
   "source": [
    "# reshaping arrays\n",
    "reshaped = normal.reshape(3, 5)\n",
    "reshaped"
   ]
  },
  {
   "cell_type": "markdown",
   "id": "5a44123d",
   "metadata": {},
   "source": [
    "## Max, ArgMax, Min, ArgMin"
   ]
  },
  {
   "cell_type": "code",
   "execution_count": 93,
   "id": "b44baa7e",
   "metadata": {},
   "outputs": [
    {
     "data": {
      "text/plain": [
       "array([[11,  9, 10],\n",
       "       [21, 23,  6],\n",
       "       [ 0, 20, 12]])"
      ]
     },
     "execution_count": 93,
     "metadata": {},
     "output_type": "execute_result"
    }
   ],
   "source": [
    "a = np.random.randint(25, size=(3,3))\n",
    "a"
   ]
  },
  {
   "cell_type": "code",
   "execution_count": 94,
   "id": "ab6ed5eb",
   "metadata": {},
   "outputs": [
    {
     "data": {
      "text/plain": [
       "23"
      ]
     },
     "execution_count": 94,
     "metadata": {},
     "output_type": "execute_result"
    }
   ],
   "source": [
    "# max value\n",
    "a.max()"
   ]
  },
  {
   "cell_type": "code",
   "execution_count": 96,
   "id": "929c4026",
   "metadata": {},
   "outputs": [
    {
     "data": {
      "text/plain": [
       "4"
      ]
     },
     "execution_count": 96,
     "metadata": {},
     "output_type": "execute_result"
    }
   ],
   "source": [
    "# max value position\n",
    "a.argmax()"
   ]
  },
  {
   "cell_type": "code",
   "execution_count": 95,
   "id": "a03b83cd",
   "metadata": {},
   "outputs": [
    {
     "data": {
      "text/plain": [
       "0"
      ]
     },
     "execution_count": 95,
     "metadata": {},
     "output_type": "execute_result"
    }
   ],
   "source": [
    "# min value\n",
    "a.min()"
   ]
  },
  {
   "cell_type": "code",
   "execution_count": 97,
   "id": "cac82787",
   "metadata": {},
   "outputs": [
    {
     "data": {
      "text/plain": [
       "6"
      ]
     },
     "execution_count": 97,
     "metadata": {},
     "output_type": "execute_result"
    }
   ],
   "source": [
    "# min value position\n",
    "a.argmin()"
   ]
  },
  {
   "cell_type": "markdown",
   "id": "50a4cea7",
   "metadata": {},
   "source": [
    "## Sorting Arrays"
   ]
  },
  {
   "cell_type": "code",
   "execution_count": 99,
   "id": "5e520574",
   "metadata": {},
   "outputs": [
    {
     "data": {
      "text/plain": [
       "array([[14, 20, 23, 22,  0],\n",
       "       [ 0,  9, 18, 20,  5],\n",
       "       [24, 24,  7,  5, 14],\n",
       "       [ 1, 17,  1, 21, 21],\n",
       "       [23, 10, 11,  4,  3]])"
      ]
     },
     "execution_count": 99,
     "metadata": {},
     "output_type": "execute_result"
    }
   ],
   "source": [
    "a = np.random.randint(25, size=(5,5))\n",
    "a"
   ]
  },
  {
   "cell_type": "code",
   "execution_count": 100,
   "id": "a59db19a",
   "metadata": {},
   "outputs": [
    {
     "data": {
      "text/plain": [
       "array([[ 0, 14, 20, 22, 23],\n",
       "       [ 0,  5,  9, 18, 20],\n",
       "       [ 5,  7, 14, 24, 24],\n",
       "       [ 1,  1, 17, 21, 21],\n",
       "       [ 3,  4, 10, 11, 23]])"
      ]
     },
     "execution_count": 100,
     "metadata": {},
     "output_type": "execute_result"
    }
   ],
   "source": [
    "# sorting array\n",
    "np.sort(a)"
   ]
  },
  {
   "cell_type": "markdown",
   "id": "ccf3d68b",
   "metadata": {},
   "source": [
    "## Indexing"
   ]
  },
  {
   "cell_type": "code",
   "execution_count": 103,
   "id": "be614b76",
   "metadata": {},
   "outputs": [
    {
     "data": {
      "text/plain": [
       "array([ 0,  1,  2,  3,  4,  5,  6,  7,  8,  9, 10, 11, 12, 13, 14, 15, 16,\n",
       "       17, 18, 19, 20])"
      ]
     },
     "execution_count": 103,
     "metadata": {},
     "output_type": "execute_result"
    }
   ],
   "source": [
    "# indexing\n",
    "indexing = np.arange(0,21)\n",
    "indexing"
   ]
  },
  {
   "cell_type": "code",
   "execution_count": 105,
   "id": "30886fa7",
   "metadata": {},
   "outputs": [
    {
     "data": {
      "text/plain": [
       "array([ 0,  1,  2,  3,  4,  5,  6,  7,  8,  9, 10])"
      ]
     },
     "execution_count": 105,
     "metadata": {},
     "output_type": "execute_result"
    }
   ],
   "source": [
    "div_indexing = indexing[:11].copy()\n",
    "div_indexing"
   ]
  },
  {
   "cell_type": "code",
   "execution_count": 106,
   "id": "f7158ca2",
   "metadata": {},
   "outputs": [],
   "source": [
    "div_indexing[:] = 999"
   ]
  },
  {
   "cell_type": "code",
   "execution_count": 107,
   "id": "47cb4ad6",
   "metadata": {},
   "outputs": [
    {
     "data": {
      "text/plain": [
       "array([999, 999, 999, 999, 999, 999, 999, 999, 999, 999, 999])"
      ]
     },
     "execution_count": 107,
     "metadata": {},
     "output_type": "execute_result"
    }
   ],
   "source": [
    "div_indexing"
   ]
  },
  {
   "cell_type": "code",
   "execution_count": 108,
   "id": "975b1da9",
   "metadata": {},
   "outputs": [
    {
     "data": {
      "text/plain": [
       "array([ 0,  1,  2,  3,  4,  5,  6,  7,  8,  9, 10, 11, 12, 13, 14, 15, 16,\n",
       "       17, 18, 19, 20])"
      ]
     },
     "execution_count": 108,
     "metadata": {},
     "output_type": "execute_result"
    }
   ],
   "source": [
    "indexing"
   ]
  },
  {
   "cell_type": "markdown",
   "id": "de5bc338",
   "metadata": {},
   "source": [
    "## Slicing Arrays"
   ]
  },
  {
   "cell_type": "code",
   "execution_count": 109,
   "id": "117a74f2",
   "metadata": {},
   "outputs": [
    {
     "data": {
      "text/plain": [
       "array([[1, 2, 3],\n",
       "       [4, 5, 6],\n",
       "       [7, 8, 9]])"
      ]
     },
     "execution_count": 109,
     "metadata": {},
     "output_type": "execute_result"
    }
   ],
   "source": [
    "array_2d = np.array([[1,2,3],[4,5,6],[7,8,9]])\n",
    "array_2d"
   ]
  },
  {
   "cell_type": "code",
   "execution_count": 110,
   "id": "da7ccd05",
   "metadata": {},
   "outputs": [
    {
     "data": {
      "text/plain": [
       "9"
      ]
     },
     "execution_count": 110,
     "metadata": {},
     "output_type": "execute_result"
    }
   ],
   "source": [
    "array_2d[2, 2]"
   ]
  },
  {
   "cell_type": "code",
   "execution_count": 114,
   "id": "275a7f66",
   "metadata": {},
   "outputs": [
    {
     "data": {
      "text/plain": [
       "array([[23,  3, 20, 17, 22, 28],\n",
       "       [11,  7, 25,  1, 11,  0],\n",
       "       [28, 28, 28, 16, 27, 21],\n",
       "       [11,  8, 20,  8, 24, 14],\n",
       "       [12, 19,  4,  9, 26, 18],\n",
       "       [28,  5, 20, 23,  9, 10]])"
      ]
     },
     "execution_count": 114,
     "metadata": {},
     "output_type": "execute_result"
    }
   ],
   "source": [
    "array_6d = np.random.randint(30, size=(6,6))\n",
    "array_6d"
   ]
  },
  {
   "cell_type": "code",
   "execution_count": 116,
   "id": "edec99d4",
   "metadata": {},
   "outputs": [
    {
     "data": {
      "text/plain": [
       "array([[ 8, 24, 14],\n",
       "       [ 9, 26, 18],\n",
       "       [23,  9, 10]])"
      ]
     },
     "execution_count": 116,
     "metadata": {},
     "output_type": "execute_result"
    }
   ],
   "source": [
    "# selecting some part of the array_6d\n",
    "array_6d[3:,3:]"
   ]
  },
  {
   "cell_type": "code",
   "execution_count": 118,
   "id": "a9617bb3",
   "metadata": {},
   "outputs": [
    {
     "data": {
      "text/plain": [
       "array([28, 28, 16])"
      ]
     },
     "execution_count": 118,
     "metadata": {},
     "output_type": "execute_result"
    }
   ],
   "source": [
    "array_6d[2,1:4]"
   ]
  },
  {
   "cell_type": "markdown",
   "id": "f341da1a",
   "metadata": {},
   "source": [
    "## Comparizons with Arrays"
   ]
  },
  {
   "cell_type": "code",
   "execution_count": 119,
   "id": "e5ce5f1e",
   "metadata": {},
   "outputs": [
    {
     "data": {
      "text/plain": [
       "array([[ True, False,  True,  True,  True,  True],\n",
       "       [ True,  True,  True, False,  True, False],\n",
       "       [ True,  True,  True,  True,  True,  True],\n",
       "       [ True,  True,  True,  True,  True,  True],\n",
       "       [ True,  True, False,  True,  True,  True],\n",
       "       [ True,  True,  True,  True,  True,  True]])"
      ]
     },
     "execution_count": 119,
     "metadata": {},
     "output_type": "execute_result"
    }
   ],
   "source": [
    "# boolean decisions\n",
    "array_6d >= 5"
   ]
  },
  {
   "cell_type": "code",
   "execution_count": 123,
   "id": "a3dd42c9",
   "metadata": {},
   "outputs": [
    {
     "data": {
      "text/plain": [
       "array([23, 20, 17, 22, 28, 11,  7, 25, 11, 28, 28, 28, 16, 27, 21, 11,  8,\n",
       "       20,  8, 24, 14, 12, 19,  9, 26, 18, 28,  5, 20, 23,  9, 10])"
      ]
     },
     "execution_count": 123,
     "metadata": {},
     "output_type": "execute_result"
    }
   ],
   "source": [
    "array_6d[array_6d>=5]"
   ]
  },
  {
   "cell_type": "code",
   "execution_count": 124,
   "id": "4baba6ee",
   "metadata": {},
   "outputs": [
    {
     "data": {
      "text/plain": [
       "array([ 0,  1,  3,  4,  5,  7,  8,  9, 10, 11, 12, 14, 16, 17, 18, 19, 20,\n",
       "       21, 22, 23, 24, 25, 26, 27, 28])"
      ]
     },
     "execution_count": 124,
     "metadata": {},
     "output_type": "execute_result"
    }
   ],
   "source": [
    "np.unique(array_6d)"
   ]
  },
  {
   "cell_type": "markdown",
   "id": "04291001",
   "metadata": {},
   "source": [
    "## Calculations with Arrays"
   ]
  },
  {
   "cell_type": "code",
   "execution_count": 125,
   "id": "e695dea2",
   "metadata": {},
   "outputs": [
    {
     "data": {
      "text/plain": [
       "array([ 1,  9,  0, 13, 14])"
      ]
     },
     "execution_count": 125,
     "metadata": {},
     "output_type": "execute_result"
    }
   ],
   "source": [
    "# some calculations with arrays\n",
    "mat = np.random.randint(0,15,5)\n",
    "mat"
   ]
  },
  {
   "cell_type": "code",
   "execution_count": 126,
   "id": "6adb87f0",
   "metadata": {},
   "outputs": [
    {
     "data": {
      "text/plain": [
       "array([1., 1., 1., 1., 1.])"
      ]
     },
     "execution_count": 126,
     "metadata": {},
     "output_type": "execute_result"
    }
   ],
   "source": [
    "ones = np.ones(5)\n",
    "ones"
   ]
  },
  {
   "cell_type": "code",
   "execution_count": 127,
   "id": "2f555e11",
   "metadata": {},
   "outputs": [
    {
     "data": {
      "text/plain": [
       "array([ 2., 10.,  1., 14., 15.])"
      ]
     },
     "execution_count": 127,
     "metadata": {},
     "output_type": "execute_result"
    }
   ],
   "source": [
    "mat+ones"
   ]
  },
  {
   "cell_type": "code",
   "execution_count": 128,
   "id": "9c568305",
   "metadata": {},
   "outputs": [
    {
     "data": {
      "text/plain": [
       "array([3., 3., 3., 3., 3.])"
      ]
     },
     "execution_count": 128,
     "metadata": {},
     "output_type": "execute_result"
    }
   ],
   "source": [
    "ones = np.ones(5)*3\n",
    "ones"
   ]
  },
  {
   "cell_type": "code",
   "execution_count": 129,
   "id": "08f22c8f",
   "metadata": {},
   "outputs": [
    {
     "data": {
      "text/plain": [
       "array([ 3., 27.,  0., 39., 42.])"
      ]
     },
     "execution_count": 129,
     "metadata": {},
     "output_type": "execute_result"
    }
   ],
   "source": [
    "mat*ones"
   ]
  },
  {
   "cell_type": "code",
   "execution_count": 130,
   "id": "6a4eaf02",
   "metadata": {},
   "outputs": [
    {
     "data": {
      "text/plain": [
       "array([1.000e+00, 7.290e+02, 0.000e+00, 2.197e+03, 2.744e+03])"
      ]
     },
     "execution_count": 130,
     "metadata": {},
     "output_type": "execute_result"
    }
   ],
   "source": [
    "mat**ones"
   ]
  },
  {
   "cell_type": "code",
   "execution_count": 131,
   "id": "34a25328",
   "metadata": {},
   "outputs": [
    {
     "data": {
      "text/plain": [
       "array([0.84147098, 0.41211849, 0.        , 0.42016704, 0.99060736])"
      ]
     },
     "execution_count": 131,
     "metadata": {},
     "output_type": "execute_result"
    }
   ],
   "source": [
    "np.sin(mat)"
   ]
  },
  {
   "cell_type": "code",
   "execution_count": 132,
   "id": "bd422e8f",
   "metadata": {},
   "outputs": [
    {
     "data": {
      "text/plain": [
       "array([ 0.54030231, -0.91113026,  1.        ,  0.90744678,  0.13673722])"
      ]
     },
     "execution_count": 132,
     "metadata": {},
     "output_type": "execute_result"
    }
   ],
   "source": [
    "np.cos(mat)"
   ]
  },
  {
   "cell_type": "code",
   "execution_count": 133,
   "id": "b3c157bd",
   "metadata": {},
   "outputs": [
    {
     "data": {
      "text/plain": [
       "array([ 1.55740772, -0.45231566,  0.        ,  0.46302113,  7.24460662])"
      ]
     },
     "execution_count": 133,
     "metadata": {},
     "output_type": "execute_result"
    }
   ],
   "source": [
    "np.tan(mat)"
   ]
  }
 ],
 "metadata": {
  "kernelspec": {
   "display_name": "Python 3 (ipykernel)",
   "language": "python",
   "name": "python3"
  },
  "language_info": {
   "codemirror_mode": {
    "name": "ipython",
    "version": 3
   },
   "file_extension": ".py",
   "mimetype": "text/x-python",
   "name": "python",
   "nbconvert_exporter": "python",
   "pygments_lexer": "ipython3",
   "version": "3.10.5"
  }
 },
 "nbformat": 4,
 "nbformat_minor": 5
}
